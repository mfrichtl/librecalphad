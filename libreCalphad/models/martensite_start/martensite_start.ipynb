{
 "cells": [
  {
   "cell_type": "markdown",
   "metadata": {},
   "source": [
    "# Martensite-Start Modeling\n",
    "This model predicts the martensite-start temperature, $M_s$, of steels by calculating the driving force required for the transformation based on experimental data from a wide variety of binary, ternary, and multicomponent steels."
   ]
  }
 ],
 "metadata": {
  "language_info": {
   "name": "python"
  }
 },
 "nbformat": 4,
 "nbformat_minor": 2
}
